{
  "cells": [
    {
      "cell_type": "markdown",
      "metadata": {
        "id": "view-in-github",
        "colab_type": "text"
      },
      "source": [
        "<a href=\"https://colab.research.google.com/github/a-yankovs/EE-242-Labs-/blob/main/Lab1A_EE242_AUT23.ipynb\" target=\"_parent\"><img src=\"https://colab.research.google.com/assets/colab-badge.svg\" alt=\"Open In Colab\"/></a>"
      ]
    },
    {
      "cell_type": "markdown",
      "metadata": {
        "id": "s1E1LhsXUlAq"
      },
      "source": [
        "## EE 242 Lab 1a – Modifying Signals - Sampling and Amplifying\n",
        "\n",
        "Alexandra Yankovskaya, Huy Tran, Tyler Wang\n",
        "\n",
        "Group name: EE242 labb\n",
        "\n",
        "\n",
        "This lab has 2 exercises to be completed as a team. Each should be given a separate code cell in your Notebook, followed by a markdown cell with report discussion. Your notebook should start with a markdown title and overview cell, which should be followed by an import cell that has the import statements for all assignments. For this assignment, you will need to import: numpy, the wavfile package from scipy.io, and matplotlib.pyplot.  "
      ]
    },
    {
      "cell_type": "code",
      "execution_count": 1,
      "metadata": {
        "id": "AjSs0oUuUlAs"
      },
      "outputs": [],
      "source": [
        "# We'll refer to this as the \"import cell.\" Every module you import should be imported here.\n",
        "%matplotlib notebook\n",
        "import numpy as np\n",
        "import matplotlib\n",
        "import scipy.signal as sig\n",
        "import scipy.io.wavfile as wav\n",
        "import matplotlib.pyplot as plt\n",
        "# import whatever other modules you use in this lab -- there are more that you need than we've included"
      ]
    },
    {
      "cell_type": "markdown",
      "metadata": {
        "tags": [],
        "id": "ro_G8xEqUlAt"
      },
      "source": [
        "## Summary\n",
        "\n",
        "In this lab, you will work through a series of exercises to introduce you to working with audio signals and explore the impact of different amplitude and time operations on signals.  This is a two-week lab.  You should plan on completing the first 2 assignments in the first week."
      ]
    },
    {
      "cell_type": "markdown",
      "metadata": {
        "id": "ZMsAUc3LUlAt"
      },
      "source": [
        "## Lab 1a turn in checklist\n",
        "\n",
        "•\tLab 1a Jupyter notebook with code for the 2 exercises assignment in separate cells. Each assignment cell should contain markdown cells (same as lab overview cells) for the responses to lab report questions. Include your lab members’ names at the top of the notebook.\n",
        "\n",
        "**Please submit the report as PDF**\n",
        "\n",
        "\n"
      ]
    },
    {
      "cell_type": "markdown",
      "metadata": {
        "tags": [],
        "id": "JT9nZKTxUlAt"
      },
      "source": [
        "## Assignment 1 -- Working with sound files\n",
        "\n",
        "Start a new cell following the guidelines in the Lab 1a template, dividing it into Parts A-C.\n",
        "\n",
        "**A.**  Download the train.wav sound file provided. Read in the file saving the audio vector and sampling frequency in variables $x_1(t)$ and $f_{s_1}$, respectively. Print the sampling rate $f_{s_1}$ (which should be 32kHz) and the shape of $x_1(t)$, which will tell you the length and number of channels.  \n",
        "\n",
        "**B.**  Write out two new versions of the file in wav format using different sampling rates: $f_{s_2}=f_{s_1}/2$ (16 kHz) and $f_{s_3}=1.5f_{s_1}$.  Basically create $x_2(t)=x_1(t/2)$ and $x_3(t)=x_1(2t)$\n",
        "\n",
        "**C.**  Read in the three different versions of the train sound file and play each one.   ($x_1(t), x_2(t), x_3(t)$, don't change the $f_s$ while playing)"
      ]
    },
    {
      "cell_type": "code",
      "execution_count": 2,
      "metadata": {
        "tags": [],
        "id": "OM950JFKUlAt"
      },
      "outputs": [],
      "source": [
        "# Assignment 1 - Time Scaling Function\n",
        "# Start with a comment section that explains what the input and output variables are, e.g.\n",
        "# x: input signal vector\n",
        "# fs: sampling rate (in Hz)\n",
        "# a: scaling parameter. This has to be a decimal value for as_integer_ratio to work.\n",
        "# So, explicitly casting it into a float or a double or any fractional data type will help.\n",
        "# returns t: time samples vector corresponding to y: scaled signal\n",
        "\n",
        "def timescale(x, fs, a):\n",
        "    [n, d] = (np.double(a)).as_integer_ratio()\n",
        "    y = sig.resample_poly(x,d,n)\n",
        "    t = np.arange(0,len(y),1)*(1.0/fs)\n",
        "    return y,t\n",
        "\n",
        "def linear_timescale(x, fs, a):\n",
        "    [n, d] = (np.double(a)).as_integer_ratio()\n",
        "    #Implement the linear time scaling that we learned in class\n",
        "    #TODO: scale the signal up by d\n",
        "    #TODO: shrink it by n\n",
        "    t = np.arange(0,len(y),1)*(1.0/fs)\n",
        "    return y,t\n"
      ]
    },
    {
      "cell_type": "code",
      "execution_count": null,
      "metadata": {
        "id": "9TcJ6FrNUlAu"
      },
      "outputs": [],
      "source": [
        "# Assignment 1 - Playing and Plotting Time Scaled Audio Files\n",
        "\n",
        "# Part A\n",
        "# 1. Read the train.wav file\n",
        "\n",
        "file1 = wav.read('train.wav')\n",
        "sample_rate = file1[0]\n",
        "signal = file1[1]\n",
        "\n",
        "# 2. Print the sampling rate and shape of signal\n",
        "print(\"Sample rate: \" + sample_rate)\n",
        "print(\"Signal shape: \" + signal.shape)\n",
        "\n",
        "# Part B\n",
        "# 1. Use both timescale and linear_timescale functions above to resample the signal using value of \"a\" as 0.5 and 2.\n",
        "\n",
        "# 2. Store the files as train_(high/low)_poly.wav and train_(high/low)_linear.wav (Don't change the f_s while storing the files)\n",
        "\n",
        "# Part C\n",
        "# 1. Play the files"
      ]
    },
    {
      "cell_type": "markdown",
      "metadata": {
        "id": "IuxfqvKBUlAu"
      },
      "source": [
        "###  Discussion\n",
        "\n",
        "Comment on how the audio changes when the incorrect sampling frequency is used.\n"
      ]
    },
    {
      "cell_type": "markdown",
      "metadata": {
        "id": "9A30N9myUlAu"
      },
      "source": [
        "## Assignment 2 -- Amplitude Operations on Signals\n",
        "\n",
        "Again, following the guidelines in the Lab 1 template, start a new cell and write a script to meet the following specifications. This assignment will have three parts, A-C, each of which should be indicated with comments.  \n",
        "\n",
        "**A.1.** Create a discrete time signal $s_1(t)$ that is the same length as $x_1(t)$ and has value 1 for t=[0,0.5] and value 0.2 for $t>0.5$.  \n",
        "\n",
        "You can use the command below where $len$ is the length of $x_1(t)$ and $n_0$ is the index corresponding to t=0.5,\n",
        "s1 = np.concatenate((np.ones(n0),0.2*np.ones(len(x1)-n0))\n",
        "\n",
        "**A.2.** Multiply x1 with s1 to create v1. Save this signal to a wav file.\n",
        "\n",
        "**B.1** Create a discrete-time decaying ramp signal r1, that is the same length as x1. The signal should have value 1 at time 0 and linearly decay to value 0.  (Hint: use numpy.arange.)\n",
        "\n",
        "**B.2** Multiply x1 with r1 to create v2. Save this signal to a wav file.  \n",
        "\n",
        "**C.**  Read in v1 and v2 and play the two different modifications together with the original, to verify that the volume of the second whistle is reduced.\n",
        "\n",
        "Ensure to play all the signals for the TAs"
      ]
    },
    {
      "cell_type": "code",
      "execution_count": null,
      "metadata": {
        "tags": [],
        "id": "EHee5TFCUlAu"
      },
      "outputs": [],
      "source": [
        "# Assignment 2 - Amplitude Operations on Signals\n",
        "\n",
        "# Part A\n",
        "# TODO: Code that solves A\n",
        "# 1. Create a signal s1 which 1 from 0s to 0.5s and 0.2 from 0.5s onward\n",
        "\n",
        "# 2. Multiply s1 with x1 sample by sample to create v1\n",
        "\n",
        "\n",
        "# Part B\n",
        "# TODO: Code that solves B\n",
        "# 1. Create a signal r1 which goes down linearly from 1 to 0 across the length of the signal.\n",
        "\n",
        "# 2. Multiply r1 with x1 sample by sample to create v2\n",
        "\n",
        "# Part C\n",
        "# TODO: Code that solves C\n",
        "# 1. Store and play v1 and v2\n",
        "\n"
      ]
    },
    {
      "cell_type": "markdown",
      "metadata": {
        "id": "2SajHr8pUlAv"
      },
      "source": [
        "###  Discussion\n",
        "\n",
        "Discuss the differences that the two modifications have on the signal. What would happen if you defined s1 to take value 2 for the [0,0.5] range? If you wanted a smooth but faster decay in amplitude, what signal might you use?  "
      ]
    }
  ],
  "metadata": {
    "kernelspec": {
      "display_name": "Python 3 (ipykernel)",
      "language": "python",
      "name": "python3"
    },
    "language_info": {
      "codemirror_mode": {
        "name": "ipython",
        "version": 3
      },
      "file_extension": ".py",
      "mimetype": "text/x-python",
      "name": "python",
      "nbconvert_exporter": "python",
      "pygments_lexer": "ipython3",
      "version": "3.10.10"
    },
    "colab": {
      "provenance": [],
      "include_colab_link": true
    }
  },
  "nbformat": 4,
  "nbformat_minor": 0
}